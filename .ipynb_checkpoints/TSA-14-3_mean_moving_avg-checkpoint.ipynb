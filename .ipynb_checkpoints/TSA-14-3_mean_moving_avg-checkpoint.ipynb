{
 "cells": [
  {
   "cell_type": "code",
   "execution_count": 1,
   "id": "a44dc9af-41cd-4e27-ad4e-b7a4bc6f697b",
   "metadata": {},
   "outputs": [],
   "source": [
    "import numpy as np\n",
    "import pandas as pd"
   ]
  },
  {
   "cell_type": "code",
   "execution_count": 2,
   "id": "847f6ebf-efca-4381-858c-718d334fd2b2",
   "metadata": {},
   "outputs": [
    {
     "data": {
      "text/html": [
       "<div>\n",
       "<style scoped>\n",
       "    .dataframe tbody tr th:only-of-type {\n",
       "        vertical-align: middle;\n",
       "    }\n",
       "\n",
       "    .dataframe tbody tr th {\n",
       "        vertical-align: top;\n",
       "    }\n",
       "\n",
       "    .dataframe thead th {\n",
       "        text-align: right;\n",
       "    }\n",
       "</style>\n",
       "<table border=\"1\" class=\"dataframe\">\n",
       "  <thead>\n",
       "    <tr style=\"text-align: right;\">\n",
       "      <th></th>\n",
       "      <th>Supplier</th>\n",
       "      <th>Amount($)</th>\n",
       "    </tr>\n",
       "  </thead>\n",
       "  <tbody>\n",
       "    <tr>\n",
       "      <th>0</th>\n",
       "      <td>1</td>\n",
       "      <td>9</td>\n",
       "    </tr>\n",
       "    <tr>\n",
       "      <th>1</th>\n",
       "      <td>2</td>\n",
       "      <td>8</td>\n",
       "    </tr>\n",
       "    <tr>\n",
       "      <th>2</th>\n",
       "      <td>3</td>\n",
       "      <td>9</td>\n",
       "    </tr>\n",
       "    <tr>\n",
       "      <th>3</th>\n",
       "      <td>4</td>\n",
       "      <td>12</td>\n",
       "    </tr>\n",
       "    <tr>\n",
       "      <th>4</th>\n",
       "      <td>5</td>\n",
       "      <td>9</td>\n",
       "    </tr>\n",
       "    <tr>\n",
       "      <th>5</th>\n",
       "      <td>6</td>\n",
       "      <td>12</td>\n",
       "    </tr>\n",
       "    <tr>\n",
       "      <th>6</th>\n",
       "      <td>7</td>\n",
       "      <td>11</td>\n",
       "    </tr>\n",
       "    <tr>\n",
       "      <th>7</th>\n",
       "      <td>8</td>\n",
       "      <td>7</td>\n",
       "    </tr>\n",
       "    <tr>\n",
       "      <th>8</th>\n",
       "      <td>9</td>\n",
       "      <td>13</td>\n",
       "    </tr>\n",
       "    <tr>\n",
       "      <th>9</th>\n",
       "      <td>10</td>\n",
       "      <td>9</td>\n",
       "    </tr>\n",
       "    <tr>\n",
       "      <th>10</th>\n",
       "      <td>11</td>\n",
       "      <td>11</td>\n",
       "    </tr>\n",
       "    <tr>\n",
       "      <th>11</th>\n",
       "      <td>12</td>\n",
       "      <td>10</td>\n",
       "    </tr>\n",
       "  </tbody>\n",
       "</table>\n",
       "</div>"
      ],
      "text/plain": [
       "    Supplier  Amount($)\n",
       "0          1          9\n",
       "1          2          8\n",
       "2          3          9\n",
       "3          4         12\n",
       "4          5          9\n",
       "5          6         12\n",
       "6          7         11\n",
       "7          8          7\n",
       "8          9         13\n",
       "9         10          9\n",
       "10        11         11\n",
       "11        12         10"
      ]
     },
     "execution_count": 2,
     "metadata": {},
     "output_type": "execute_result"
    }
   ],
   "source": [
    "df = pd.read_csv(\"D:\\labs\\data_set\\suplier.csv\")\n",
    "df"
   ]
  },
  {
   "cell_type": "code",
   "execution_count": 3,
   "id": "eeafadac-99ef-4e60-b407-3ddba072fe38",
   "metadata": {},
   "outputs": [],
   "source": [
    "actual_values = df['Amount($)']"
   ]
  },
  {
   "cell_type": "code",
   "execution_count": 4,
   "id": "2ac6e20f-399a-498e-ac94-df0d794b5387",
   "metadata": {},
   "outputs": [
    {
     "data": {
      "text/plain": [
       "10.0"
      ]
     },
     "execution_count": 4,
     "metadata": {},
     "output_type": "execute_result"
    }
   ],
   "source": [
    "mean_predicted_value = actual_values.mean()\n",
    "mean_predicted_value"
   ]
  },
  {
   "cell_type": "code",
   "execution_count": 5,
   "id": "62d8b4e7-cd25-4271-bd04-5c42f2be2eab",
   "metadata": {},
   "outputs": [
    {
     "data": {
      "text/plain": [
       "[10.0, 10.0, 10.0, 10.0, 10.0, 10.0, 10.0, 10.0, 10.0, 10.0, 10.0, 10.0]"
      ]
     },
     "execution_count": 5,
     "metadata": {},
     "output_type": "execute_result"
    }
   ],
   "source": [
    "predicted_values = [mean_predicted_value] * len(actual_values)\n",
    "predicted_values"
   ]
  },
  {
   "cell_type": "code",
   "execution_count": 6,
   "id": "e91e00a6-f46d-4b25-9a4c-3df433b321d5",
   "metadata": {},
   "outputs": [],
   "source": [
    "mse = ((actual_values - predicted_values) ** 2).mean()\n",
    "sse = ((actual_values - predicted_values) ** 2).sum()"
   ]
  },
  {
   "cell_type": "code",
   "execution_count": 7,
   "id": "a4739cff-5e38-4e8e-ac31-7ab2ac5aa363",
   "metadata": {},
   "outputs": [
    {
     "name": "stdout",
     "output_type": "stream",
     "text": [
      "Mean Squared Error (MSE): 3.0\n",
      "Sum of Squared Errors (SSE): 36.0\n"
     ]
    }
   ],
   "source": [
    "print(\"Mean Squared Error (MSE):\", mse)\n",
    "print(\"Sum of Squared Errors (SSE):\", sse)"
   ]
  },
  {
   "cell_type": "code",
   "execution_count": 8,
   "id": "dfb2660e-ab06-4cd1-9aac-1688ce073297",
   "metadata": {},
   "outputs": [
    {
     "data": {
      "text/plain": [
       "3.333333333333333"
      ]
     },
     "execution_count": 8,
     "metadata": {},
     "output_type": "execute_result"
    }
   ],
   "source": [
    "weighted_mean = (1/3)*mean_predicted_value\n",
    "weighted_mean"
   ]
  },
  {
   "cell_type": "code",
   "execution_count": 9,
   "id": "8e150c5f-ccff-40b2-91fa-15dc55b67bd7",
   "metadata": {},
   "outputs": [
    {
     "name": "stdout",
     "output_type": "stream",
     "text": [
      "Weighted Mean Squared Error (MSE): 47.44444444444446\n",
      "Weighted Sum of Squared Errors (SSE): 569.3333333333335\n"
     ]
    }
   ],
   "source": [
    "predicted_values = [weighted_mean] * len(actual_values)\n",
    "\n",
    "mse = ((actual_values - predicted_values) ** 2).mean()\n",
    "sse = ((actual_values - predicted_values) ** 2).sum()\n",
    "\n",
    "print(\"Weighted Mean Squared Error (MSE):\", mse)\n",
    "print(\"Weighted Sum of Squared Errors (SSE):\", sse)"
   ]
  },
  {
   "cell_type": "markdown",
   "id": "38c49531-2f17-4b60-ae61-57c40fdea335",
   "metadata": {},
   "source": [
    "* moving avg. 3"
   ]
  },
  {
   "cell_type": "code",
   "execution_count": 10,
   "id": "1c845d49-24d7-4aeb-8e73-cd04b2b1fec9",
   "metadata": {},
   "outputs": [],
   "source": [
    "def moving_average(data, window_size):\n",
    "    return data.rolling(window=window_size).mean()"
   ]
  },
  {
   "cell_type": "code",
   "execution_count": 11,
   "id": "8d0baa2b-bbad-497d-a47e-6711f8c016dc",
   "metadata": {},
   "outputs": [],
   "source": [
    "def calculate_mse_sse(actual_values, predicted_values):\n",
    "    mse = ((actual_values - predicted_values) ** 2).mean()\n",
    "    sse = ((actual_values - predicted_values) ** 2).sum()\n",
    "    return mse, sse"
   ]
  },
  {
   "cell_type": "code",
   "execution_count": 12,
   "id": "df83043d-1811-49da-9928-28e9a357c894",
   "metadata": {},
   "outputs": [],
   "source": [
    "window_size = 3"
   ]
  },
  {
   "cell_type": "code",
   "execution_count": 13,
   "id": "57f3dfbe-edf8-4059-94f7-d00261b2c82a",
   "metadata": {},
   "outputs": [],
   "source": [
    "df['Moving_Avg3'] = moving_average(df['Amount($)'], window_size)"
   ]
  },
  {
   "cell_type": "code",
   "execution_count": 14,
   "id": "e3755c2d-cc1d-4fac-9309-f58abafa70eb",
   "metadata": {},
   "outputs": [],
   "source": [
    "df.dropna(inplace=True)"
   ]
  },
  {
   "cell_type": "code",
   "execution_count": 15,
   "id": "88a673a7-b43f-48fa-8d23-2eeaa0deb125",
   "metadata": {},
   "outputs": [
    {
     "data": {
      "text/html": [
       "<div>\n",
       "<style scoped>\n",
       "    .dataframe tbody tr th:only-of-type {\n",
       "        vertical-align: middle;\n",
       "    }\n",
       "\n",
       "    .dataframe tbody tr th {\n",
       "        vertical-align: top;\n",
       "    }\n",
       "\n",
       "    .dataframe thead th {\n",
       "        text-align: right;\n",
       "    }\n",
       "</style>\n",
       "<table border=\"1\" class=\"dataframe\">\n",
       "  <thead>\n",
       "    <tr style=\"text-align: right;\">\n",
       "      <th></th>\n",
       "      <th>Supplier</th>\n",
       "      <th>Amount($)</th>\n",
       "      <th>Moving_Avg3</th>\n",
       "    </tr>\n",
       "  </thead>\n",
       "  <tbody>\n",
       "    <tr>\n",
       "      <th>2</th>\n",
       "      <td>3</td>\n",
       "      <td>9</td>\n",
       "      <td>8.666667</td>\n",
       "    </tr>\n",
       "    <tr>\n",
       "      <th>3</th>\n",
       "      <td>4</td>\n",
       "      <td>12</td>\n",
       "      <td>9.666667</td>\n",
       "    </tr>\n",
       "    <tr>\n",
       "      <th>4</th>\n",
       "      <td>5</td>\n",
       "      <td>9</td>\n",
       "      <td>10.000000</td>\n",
       "    </tr>\n",
       "    <tr>\n",
       "      <th>5</th>\n",
       "      <td>6</td>\n",
       "      <td>12</td>\n",
       "      <td>11.000000</td>\n",
       "    </tr>\n",
       "    <tr>\n",
       "      <th>6</th>\n",
       "      <td>7</td>\n",
       "      <td>11</td>\n",
       "      <td>10.666667</td>\n",
       "    </tr>\n",
       "    <tr>\n",
       "      <th>7</th>\n",
       "      <td>8</td>\n",
       "      <td>7</td>\n",
       "      <td>10.000000</td>\n",
       "    </tr>\n",
       "    <tr>\n",
       "      <th>8</th>\n",
       "      <td>9</td>\n",
       "      <td>13</td>\n",
       "      <td>10.333333</td>\n",
       "    </tr>\n",
       "    <tr>\n",
       "      <th>9</th>\n",
       "      <td>10</td>\n",
       "      <td>9</td>\n",
       "      <td>9.666667</td>\n",
       "    </tr>\n",
       "    <tr>\n",
       "      <th>10</th>\n",
       "      <td>11</td>\n",
       "      <td>11</td>\n",
       "      <td>11.000000</td>\n",
       "    </tr>\n",
       "    <tr>\n",
       "      <th>11</th>\n",
       "      <td>12</td>\n",
       "      <td>10</td>\n",
       "      <td>10.000000</td>\n",
       "    </tr>\n",
       "  </tbody>\n",
       "</table>\n",
       "</div>"
      ],
      "text/plain": [
       "    Supplier  Amount($)  Moving_Avg3\n",
       "2          3          9     8.666667\n",
       "3          4         12     9.666667\n",
       "4          5          9    10.000000\n",
       "5          6         12    11.000000\n",
       "6          7         11    10.666667\n",
       "7          8          7    10.000000\n",
       "8          9         13    10.333333\n",
       "9         10          9     9.666667\n",
       "10        11         11    11.000000\n",
       "11        12         10    10.000000"
      ]
     },
     "execution_count": 15,
     "metadata": {},
     "output_type": "execute_result"
    }
   ],
   "source": [
    "df"
   ]
  },
  {
   "cell_type": "code",
   "execution_count": 16,
   "id": "96c39799-154e-49e4-bc18-c161808ed8e5",
   "metadata": {},
   "outputs": [
    {
     "name": "stdout",
     "output_type": "stream",
     "text": [
      "Mean Squared Error (MSE): 2.422222222222222\n",
      "Sum of Squared Errors (SSE): 24.22222222222222\n"
     ]
    }
   ],
   "source": [
    "mse, sse = calculate_mse_sse(df['Amount($)'], df['Moving_Avg3'])\n",
    "\n",
    "print(\"Mean Squared Error (MSE):\", mse)\n",
    "print(\"Sum of Squared Errors (SSE):\", sse)"
   ]
  },
  {
   "cell_type": "code",
   "execution_count": 17,
   "id": "f8dcceaa-e37d-4fb7-b3d9-3e1d10e3bbe0",
   "metadata": {},
   "outputs": [],
   "source": [
    "window_size = 2"
   ]
  },
  {
   "cell_type": "code",
   "execution_count": 18,
   "id": "799fec80-159a-4928-ba98-44628e649c26",
   "metadata": {},
   "outputs": [],
   "source": [
    "df['Moving_Avg2'] = moving_average(df['Amount($)'], window_size)"
   ]
  },
  {
   "cell_type": "code",
   "execution_count": 19,
   "id": "14afe75f-b419-4f87-8ea3-4e008c67db43",
   "metadata": {},
   "outputs": [],
   "source": [
    "df.dropna(inplace=True)"
   ]
  },
  {
   "cell_type": "code",
   "execution_count": 20,
   "id": "a91aa5df-d49f-4116-b93c-f306db5767c1",
   "metadata": {},
   "outputs": [
    {
     "name": "stdout",
     "output_type": "stream",
     "text": [
      "Mean Squared Error (MSE): 2.8055555555555554\n",
      "Sum of Squared Errors (SSE): 25.25\n"
     ]
    }
   ],
   "source": [
    "mse, sse = calculate_mse_sse(df['Amount($)'], df['Moving_Avg2'])\n",
    "\n",
    "print(\"Mean Squared Error (MSE):\", mse)\n",
    "print(\"Sum of Squared Errors (SSE):\", sse)"
   ]
  },
  {
   "cell_type": "markdown",
   "id": "36ead38e-aaea-4f00-a72c-28a16c3b5804",
   "metadata": {},
   "source": [
    "* centar moving avg."
   ]
  },
  {
   "cell_type": "code",
   "execution_count": 21,
   "id": "f0c6146b-ad6c-432c-b121-4fa9257e4fa0",
   "metadata": {},
   "outputs": [],
   "source": [
    "def centered_moving_average(data, window_size):\n",
    "    half_window = window_size // 2\n",
    "    moving_avg = data.rolling(window=window_size).mean()\n",
    "    centered_avg = moving_avg.shift(-half_window)\n",
    "    return centered_avg"
   ]
  },
  {
   "cell_type": "code",
   "execution_count": 22,
   "id": "ef229a8e-0716-46c2-906d-98ad133b0476",
   "metadata": {},
   "outputs": [],
   "source": [
    "window_size = 3"
   ]
  },
  {
   "cell_type": "code",
   "execution_count": 23,
   "id": "d81e52ec-fddd-4031-a288-64458bbd4d76",
   "metadata": {},
   "outputs": [],
   "source": [
    "df['Centered_Moving_Avg'] = centered_moving_average(df['Amount($)'], window_size)"
   ]
  },
  {
   "cell_type": "code",
   "execution_count": 25,
   "id": "cd02e9fb-c342-4d43-b8ba-3c08d154e1fe",
   "metadata": {},
   "outputs": [],
   "source": [
    "df.dropna(inplace=True)"
   ]
  },
  {
   "cell_type": "code",
   "execution_count": 26,
   "id": "bf5d743f-bf29-41c2-88b9-978431c38bd3",
   "metadata": {},
   "outputs": [
    {
     "data": {
      "text/html": [
       "<div>\n",
       "<style scoped>\n",
       "    .dataframe tbody tr th:only-of-type {\n",
       "        vertical-align: middle;\n",
       "    }\n",
       "\n",
       "    .dataframe tbody tr th {\n",
       "        vertical-align: top;\n",
       "    }\n",
       "\n",
       "    .dataframe thead th {\n",
       "        text-align: right;\n",
       "    }\n",
       "</style>\n",
       "<table border=\"1\" class=\"dataframe\">\n",
       "  <thead>\n",
       "    <tr style=\"text-align: right;\">\n",
       "      <th></th>\n",
       "      <th>Supplier</th>\n",
       "      <th>Amount($)</th>\n",
       "      <th>Moving_Avg3</th>\n",
       "      <th>Moving_Avg2</th>\n",
       "      <th>Centered_Moving_Avg</th>\n",
       "    </tr>\n",
       "  </thead>\n",
       "  <tbody>\n",
       "    <tr>\n",
       "      <th>4</th>\n",
       "      <td>5</td>\n",
       "      <td>9</td>\n",
       "      <td>10.000000</td>\n",
       "      <td>10.5</td>\n",
       "      <td>11.000000</td>\n",
       "    </tr>\n",
       "    <tr>\n",
       "      <th>5</th>\n",
       "      <td>6</td>\n",
       "      <td>12</td>\n",
       "      <td>11.000000</td>\n",
       "      <td>10.5</td>\n",
       "      <td>10.666667</td>\n",
       "    </tr>\n",
       "    <tr>\n",
       "      <th>6</th>\n",
       "      <td>7</td>\n",
       "      <td>11</td>\n",
       "      <td>10.666667</td>\n",
       "      <td>11.5</td>\n",
       "      <td>10.000000</td>\n",
       "    </tr>\n",
       "    <tr>\n",
       "      <th>7</th>\n",
       "      <td>8</td>\n",
       "      <td>7</td>\n",
       "      <td>10.000000</td>\n",
       "      <td>9.0</td>\n",
       "      <td>10.333333</td>\n",
       "    </tr>\n",
       "    <tr>\n",
       "      <th>8</th>\n",
       "      <td>9</td>\n",
       "      <td>13</td>\n",
       "      <td>10.333333</td>\n",
       "      <td>10.0</td>\n",
       "      <td>9.666667</td>\n",
       "    </tr>\n",
       "    <tr>\n",
       "      <th>9</th>\n",
       "      <td>10</td>\n",
       "      <td>9</td>\n",
       "      <td>9.666667</td>\n",
       "      <td>11.0</td>\n",
       "      <td>11.000000</td>\n",
       "    </tr>\n",
       "    <tr>\n",
       "      <th>10</th>\n",
       "      <td>11</td>\n",
       "      <td>11</td>\n",
       "      <td>11.000000</td>\n",
       "      <td>10.0</td>\n",
       "      <td>10.000000</td>\n",
       "    </tr>\n",
       "  </tbody>\n",
       "</table>\n",
       "</div>"
      ],
      "text/plain": [
       "    Supplier  Amount($)  Moving_Avg3  Moving_Avg2  Centered_Moving_Avg\n",
       "4          5          9    10.000000         10.5            11.000000\n",
       "5          6         12    11.000000         10.5            10.666667\n",
       "6          7         11    10.666667         11.5            10.000000\n",
       "7          8          7    10.000000          9.0            10.333333\n",
       "8          9         13    10.333333         10.0             9.666667\n",
       "9         10          9     9.666667         11.0            11.000000\n",
       "10        11         11    11.000000         10.0            10.000000"
      ]
     },
     "execution_count": 26,
     "metadata": {},
     "output_type": "execute_result"
    }
   ],
   "source": [
    "df"
   ]
  },
  {
   "cell_type": "code",
   "execution_count": 29,
   "id": "13ddc014-20fa-4696-9aec-71436e1c291a",
   "metadata": {
    "editable": true,
    "slideshow": {
     "slide_type": ""
    },
    "tags": []
   },
   "outputs": [
    {
     "name": "stdout",
     "output_type": "stream",
     "text": [
      "Mean Squared Error (MSE) for Centered Moving Average: 4.8571428571428585\n",
      "Sum of Squared Errors (SSE) for Centered Moving Average: 34.00000000000001\n"
     ]
    }
   ],
   "source": [
    "mse_3, sse_3 = calculate_mse_sse(df['Amount($)'], df['Centered_Moving_Avg'])\n",
    "print(\"Mean Squared Error (MSE) for Centered Moving Average:\", mse_3)\n",
    "print(\"Sum of Squared Errors (SSE) for Centered Moving Average:\", sse_3)"
   ]
  },
  {
   "cell_type": "code",
   "execution_count": null,
   "id": "c29dc275-d9dc-4d62-83fc-9fb2ff68bd9a",
   "metadata": {},
   "outputs": [],
   "source": []
  }
 ],
 "metadata": {
  "kernelspec": {
   "display_name": "Python 3 (ipykernel)",
   "language": "python",
   "name": "python3"
  },
  "language_info": {
   "codemirror_mode": {
    "name": "ipython",
    "version": 3
   },
   "file_extension": ".py",
   "mimetype": "text/x-python",
   "name": "python",
   "nbconvert_exporter": "python",
   "pygments_lexer": "ipython3",
   "version": "3.11.5"
  }
 },
 "nbformat": 4,
 "nbformat_minor": 5
}
