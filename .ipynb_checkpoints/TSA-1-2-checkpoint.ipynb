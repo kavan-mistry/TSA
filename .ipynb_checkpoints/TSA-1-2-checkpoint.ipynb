{
 "cells": [
  {
   "cell_type": "code",
   "execution_count": 1,
   "id": "88be7054-f5b9-4f12-ad39-0892d24ad3f4",
   "metadata": {},
   "outputs": [],
   "source": [
    "import numpy as np\n",
    "import pandas as pd\n",
    "import matplotlib.pyplot as plt"
   ]
  },
  {
   "cell_type": "code",
   "execution_count": 3,
   "id": "e8ab7857-3a73-48ff-a2e0-d017c242861d",
   "metadata": {},
   "outputs": [
    {
     "data": {
      "text/html": [
       "<div>\n",
       "<style scoped>\n",
       "    .dataframe tbody tr th:only-of-type {\n",
       "        vertical-align: middle;\n",
       "    }\n",
       "\n",
       "    .dataframe tbody tr th {\n",
       "        vertical-align: top;\n",
       "    }\n",
       "\n",
       "    .dataframe thead th {\n",
       "        text-align: right;\n",
       "    }\n",
       "</style>\n",
       "<table border=\"1\" class=\"dataframe\">\n",
       "  <thead>\n",
       "    <tr style=\"text-align: right;\">\n",
       "      <th></th>\n",
       "      <th>Observation</th>\n",
       "      <th>x1</th>\n",
       "      <th>x2</th>\n",
       "      <th>y</th>\n",
       "    </tr>\n",
       "  </thead>\n",
       "  <tbody>\n",
       "    <tr>\n",
       "      <th>0</th>\n",
       "      <td>1</td>\n",
       "      <td>55</td>\n",
       "      <td>50</td>\n",
       "      <td>68</td>\n",
       "    </tr>\n",
       "    <tr>\n",
       "      <th>1</th>\n",
       "      <td>2</td>\n",
       "      <td>46</td>\n",
       "      <td>24</td>\n",
       "      <td>77</td>\n",
       "    </tr>\n",
       "    <tr>\n",
       "      <th>2</th>\n",
       "      <td>3</td>\n",
       "      <td>30</td>\n",
       "      <td>46</td>\n",
       "      <td>96</td>\n",
       "    </tr>\n",
       "    <tr>\n",
       "      <th>3</th>\n",
       "      <td>4</td>\n",
       "      <td>35</td>\n",
       "      <td>48</td>\n",
       "      <td>80</td>\n",
       "    </tr>\n",
       "    <tr>\n",
       "      <th>4</th>\n",
       "      <td>5</td>\n",
       "      <td>59</td>\n",
       "      <td>58</td>\n",
       "      <td>43</td>\n",
       "    </tr>\n",
       "  </tbody>\n",
       "</table>\n",
       "</div>"
      ],
      "text/plain": [
       "   Observation  x1  x2   y\n",
       "0            1  55  50  68\n",
       "1            2  46  24  77\n",
       "2            3  30  46  96\n",
       "3            4  35  48  80\n",
       "4            5  59  58  43"
      ]
     },
     "execution_count": 3,
     "metadata": {},
     "output_type": "execute_result"
    }
   ],
   "source": [
    "df = pd.read_csv(\"D:\\labs\\TSA\\Patient_Satisfaction_Survey_Data.csv\")\n",
    "df.head()"
   ]
  },
  {
   "cell_type": "code",
   "execution_count": 4,
   "id": "90a73ac9-65fa-4799-8d25-66ee3fd73f45",
   "metadata": {},
   "outputs": [],
   "source": [
    "X = df[['x1', 'x2']].values\n",
    "y = df['y'].values"
   ]
  },
  {
   "cell_type": "code",
   "execution_count": 10,
   "id": "b4cd54f7-0045-4ff6-97c3-94394a58ed12",
   "metadata": {},
   "outputs": [
    {
     "data": {
      "text/plain": [
       "array([[55., 50.,  1.,  1.],\n",
       "       [46., 24.,  1.,  1.],\n",
       "       [30., 46.,  1.,  1.],\n",
       "       [35., 48.,  1.,  1.],\n",
       "       [59., 58.,  1.,  1.],\n",
       "       [61., 60.,  1.,  1.],\n",
       "       [74., 65.,  1.,  1.],\n",
       "       [38., 42.,  1.,  1.],\n",
       "       [27., 42.,  1.,  1.],\n",
       "       [51., 50.,  1.,  1.],\n",
       "       [53., 38.,  1.,  1.],\n",
       "       [41., 30.,  1.,  1.],\n",
       "       [37., 31.,  1.,  1.],\n",
       "       [24., 34.,  1.,  1.],\n",
       "       [42., 30.,  1.,  1.],\n",
       "       [50., 48.,  1.,  1.],\n",
       "       [58., 61.,  1.,  1.],\n",
       "       [60., 71.,  1.,  1.],\n",
       "       [62., 62.,  1.,  1.],\n",
       "       [68., 38.,  1.,  1.],\n",
       "       [70., 41.,  1.,  1.],\n",
       "       [79., 66.,  1.,  1.],\n",
       "       [63., 31.,  1.,  1.],\n",
       "       [39., 42.,  1.,  1.],\n",
       "       [49., 40.,  1.,  1.]])"
      ]
     },
     "execution_count": 10,
     "metadata": {},
     "output_type": "execute_result"
    }
   ],
   "source": [
    "X = np.column_stack((X, np.ones(len(X))))\n",
    "X"
   ]
  },
  {
   "cell_type": "code",
   "execution_count": 6,
   "id": "2a76e593-917d-4f55-be80-dbb5ec090d00",
   "metadata": {},
   "outputs": [],
   "source": [
    "# Calculate the coefficients using the normal equation\n",
    "X_transpose_X = np.dot(X.T, X)\n",
    "X_transpose_y = np.dot(X.T, y)"
   ]
  },
  {
   "cell_type": "code",
   "execution_count": 11,
   "id": "37f3519e-ee8b-4662-90c0-cfb77c8e0f1a",
   "metadata": {},
   "outputs": [
    {
     "data": {
      "text/plain": [
       "array([[6.9881e+04, 6.0814e+04, 1.2710e+03],\n",
       "       [6.0814e+04, 5.6790e+04, 1.1480e+03],\n",
       "       [1.2710e+03, 1.1480e+03, 2.5000e+01]])"
      ]
     },
     "execution_count": 11,
     "metadata": {},
     "output_type": "execute_result"
    }
   ],
   "source": [
    "X_transpose_X"
   ]
  },
  {
   "cell_type": "code",
   "execution_count": 12,
   "id": "c369ee69-5ce5-4cd6-9720-5a24b2145081",
   "metadata": {},
   "outputs": [
    {
     "data": {
      "text/plain": [
       "array([76487., 70426.,  1638.])"
      ]
     },
     "execution_count": 12,
     "metadata": {},
     "output_type": "execute_result"
    }
   ],
   "source": [
    "X_transpose_y"
   ]
  },
  {
   "cell_type": "code",
   "execution_count": 8,
   "id": "3d605ab8-cc03-41c9-9b4c-266b00286422",
   "metadata": {},
   "outputs": [
    {
     "data": {
      "text/plain": [
       "array([ -1.03105341,  -0.55603781, 143.47201181])"
      ]
     },
     "execution_count": 8,
     "metadata": {},
     "output_type": "execute_result"
    }
   ],
   "source": [
    "coefficients = np.linalg.inv(X_transpose_X).dot(X_transpose_y)\n",
    "coefficients"
   ]
  },
  {
   "cell_type": "code",
   "execution_count": 9,
   "id": "c554b097-27c0-46f0-9435-9a3b609a3395",
   "metadata": {},
   "outputs": [
    {
     "name": "stdout",
     "output_type": "stream",
     "text": [
      "Regression Equation: ŷ = 143.472 + -1.031x1 + -0.556x2\n"
     ]
    }
   ],
   "source": [
    "equation = f'ŷ = {coefficients[2]:.3f} + {coefficients[0]:.3f}x1 + {coefficients[1]:.3f}x2'\n",
    "print('Regression Equation:', equation)"
   ]
  }
 ],
 "metadata": {
  "kernelspec": {
   "display_name": "Python 3 (ipykernel)",
   "language": "python",
   "name": "python3"
  },
  "language_info": {
   "codemirror_mode": {
    "name": "ipython",
    "version": 3
   },
   "file_extension": ".py",
   "mimetype": "text/x-python",
   "name": "python",
   "nbconvert_exporter": "python",
   "pygments_lexer": "ipython3",
   "version": "3.11.5"
  }
 },
 "nbformat": 4,
 "nbformat_minor": 5
}
