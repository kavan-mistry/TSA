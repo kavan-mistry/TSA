{
 "cells": [
  {
   "cell_type": "code",
   "execution_count": 4,
   "id": "07d98b7b",
   "metadata": {},
   "outputs": [],
   "source": [
    "import pandas as pd\n",
    "import numpy as np\n",
    "import matplotlib.pyplot as plt"
   ]
  },
  {
   "cell_type": "code",
   "execution_count": 5,
   "id": "5a24571a",
   "metadata": {},
   "outputs": [
    {
     "data": {
      "text/html": [
       "<div>\n",
       "<style scoped>\n",
       "    .dataframe tbody tr th:only-of-type {\n",
       "        vertical-align: middle;\n",
       "    }\n",
       "\n",
       "    .dataframe tbody tr th {\n",
       "        vertical-align: top;\n",
       "    }\n",
       "\n",
       "    .dataframe thead th {\n",
       "        text-align: right;\n",
       "    }\n",
       "</style>\n",
       "<table border=\"1\" class=\"dataframe\">\n",
       "  <thead>\n",
       "    <tr style=\"text-align: right;\">\n",
       "      <th></th>\n",
       "      <th>Month</th>\n",
       "      <th>Temperature</th>\n",
       "      <th>Usage</th>\n",
       "    </tr>\n",
       "  </thead>\n",
       "  <tbody>\n",
       "    <tr>\n",
       "      <th>0</th>\n",
       "      <td>January</td>\n",
       "      <td>21</td>\n",
       "      <td>185.79</td>\n",
       "    </tr>\n",
       "    <tr>\n",
       "      <th>1</th>\n",
       "      <td>February</td>\n",
       "      <td>24</td>\n",
       "      <td>214.47</td>\n",
       "    </tr>\n",
       "    <tr>\n",
       "      <th>2</th>\n",
       "      <td>March</td>\n",
       "      <td>32</td>\n",
       "      <td>288.03</td>\n",
       "    </tr>\n",
       "    <tr>\n",
       "      <th>3</th>\n",
       "      <td>April</td>\n",
       "      <td>47</td>\n",
       "      <td>424.84</td>\n",
       "    </tr>\n",
       "    <tr>\n",
       "      <th>4</th>\n",
       "      <td>May</td>\n",
       "      <td>50</td>\n",
       "      <td>454.68</td>\n",
       "    </tr>\n",
       "    <tr>\n",
       "      <th>5</th>\n",
       "      <td>June</td>\n",
       "      <td>59</td>\n",
       "      <td>539.03</td>\n",
       "    </tr>\n",
       "    <tr>\n",
       "      <th>6</th>\n",
       "      <td>July</td>\n",
       "      <td>68</td>\n",
       "      <td>621.55</td>\n",
       "    </tr>\n",
       "    <tr>\n",
       "      <th>7</th>\n",
       "      <td>August</td>\n",
       "      <td>74</td>\n",
       "      <td>675.06</td>\n",
       "    </tr>\n",
       "    <tr>\n",
       "      <th>8</th>\n",
       "      <td>September</td>\n",
       "      <td>62</td>\n",
       "      <td>562.03</td>\n",
       "    </tr>\n",
       "    <tr>\n",
       "      <th>9</th>\n",
       "      <td>October</td>\n",
       "      <td>50</td>\n",
       "      <td>452.93</td>\n",
       "    </tr>\n",
       "    <tr>\n",
       "      <th>10</th>\n",
       "      <td>November</td>\n",
       "      <td>41</td>\n",
       "      <td>369.95</td>\n",
       "    </tr>\n",
       "    <tr>\n",
       "      <th>11</th>\n",
       "      <td>December</td>\n",
       "      <td>30</td>\n",
       "      <td>273.98</td>\n",
       "    </tr>\n",
       "  </tbody>\n",
       "</table>\n",
       "</div>"
      ],
      "text/plain": [
       "        Month  Temperature   Usage\n",
       "0     January           21  185.79\n",
       "1    February           24  214.47\n",
       "2       March           32  288.03\n",
       "3       April           47  424.84\n",
       "4         May           50  454.68\n",
       "5        June           59  539.03\n",
       "6        July           68  621.55\n",
       "7      August           74  675.06\n",
       "8   September           62  562.03\n",
       "9     October           50  452.93\n",
       "10   November           41  369.95\n",
       "11   December           30  273.98"
      ]
     },
     "execution_count": 5,
     "metadata": {},
     "output_type": "execute_result"
    }
   ],
   "source": [
    "df = pd.read_csv(\"D:\\labs\\data_set\\Monthly Steam Usage and Average Ambient Temperature.csv\")\n",
    "df"
   ]
  },
  {
   "cell_type": "markdown",
   "id": "065b37cd",
   "metadata": {},
   "source": [
    "* linear regression"
   ]
  },
  {
   "cell_type": "code",
   "execution_count": 21,
   "id": "c4ca0d1e",
   "metadata": {},
   "outputs": [],
   "source": [
    "from sklearn.linear_model import LinearRegression"
   ]
  },
  {
   "cell_type": "code",
   "execution_count": 22,
   "id": "9b91624c",
   "metadata": {},
   "outputs": [],
   "source": [
    "x = df[\"Temperature\"]\n",
    "y = df[\"Usage\"]"
   ]
  },
  {
   "cell_type": "code",
   "execution_count": 23,
   "id": "47ed4503",
   "metadata": {},
   "outputs": [],
   "source": [
    "m, c = np.polyfit(x, y, 1)"
   ]
  },
  {
   "cell_type": "code",
   "execution_count": 24,
   "id": "0ab06b3f",
   "metadata": {},
   "outputs": [
    {
     "name": "stdout",
     "output_type": "stream",
     "text": [
      "The slope is 9.21\n",
      "The intercept is -6.33\n"
     ]
    }
   ],
   "source": [
    "print(f\"The slope is {m:.2f}\")\n",
    "print(f\"The intercept is {c:.2f}\")\n"
   ]
  },
  {
   "cell_type": "code",
   "execution_count": 25,
   "id": "cf2cb08a",
   "metadata": {},
   "outputs": [],
   "source": [
    "y_pred = m * x + c"
   ]
  },
  {
   "cell_type": "code",
   "execution_count": 26,
   "id": "f3c57d19",
   "metadata": {},
   "outputs": [],
   "source": [
    "r_squared = 1 - ((y - y_pred) ** 2).sum() / ((y - y.mean()) ** 2).sum()"
   ]
  },
  {
   "cell_type": "code",
   "execution_count": 27,
   "id": "63de5cf6",
   "metadata": {},
   "outputs": [
    {
     "name": "stdout",
     "output_type": "stream",
     "text": [
      "The coefficient of determination is 1.00\n"
     ]
    }
   ],
   "source": [
    "print(f\"The coefficient of determination is {r_squared:.2f}\")"
   ]
  },
  {
   "cell_type": "code",
   "execution_count": 28,
   "id": "7b715441",
   "metadata": {},
   "outputs": [
    {
     "data": {
      "image/png": "[encoded data removed]",
      "text/plain": [
       "<Figure size 640x480 with 1 Axes>"
      ]
     },
     "metadata": {},
     "output_type": "display_data"
    }
   ],
   "source": [
    "plt.scatter(x, y, label=\"Data\")\n",
    "plt.plot(x, y_pred, color=\"red\", label=\"Regression line\")\n",
    "plt.xlabel(\"Temperature\")\n",
    "plt.ylabel(\"Usage\")\n",
    "plt.legend()\n",
    "plt.show()"
   ]
  },
  {
   "cell_type": "code",
   "execution_count": null,
   "id": "75e28c77",
   "metadata": {},
   "outputs": [],
   "source": []
  },
  {
   "cell_type": "code",
   "execution_count": null,
   "id": "555d658f",
   "metadata": {},
   "outputs": [],
   "source": []
  },
  {
   "cell_type": "code",
   "execution_count": null,
   "id": "415f8d76",
   "metadata": {},
   "outputs": [],
   "source": []
  },
  {
   "cell_type": "code",
   "execution_count": null,
   "id": "9044065c",
   "metadata": {},
   "outputs": [],
   "source": []
  },
  {
   "cell_type": "code",
   "execution_count": null,
   "id": "dd001849",
   "metadata": {},
   "outputs": [],
   "source": []
  },
  {
   "cell_type": "code",
   "execution_count": null,
   "id": "be268c36",
   "metadata": {},
   "outputs": [],
   "source": []
  },
  {
   "cell_type": "code",
   "execution_count": 60,
   "id": "face67cd",
   "metadata": {},
   "outputs": [
    {
     "data": {
      "text/html": [
       "<div>\n",
       "<style scoped>\n",
       "    .dataframe tbody tr th:only-of-type {\n",
       "        vertical-align: middle;\n",
       "    }\n",
       "\n",
       "    .dataframe tbody tr th {\n",
       "        vertical-align: top;\n",
       "    }\n",
       "\n",
       "    .dataframe thead th {\n",
       "        text-align: right;\n",
       "    }\n",
       "</style>\n",
       "<table border=\"1\" class=\"dataframe\">\n",
       "  <thead>\n",
       "    <tr style=\"text-align: right;\">\n",
       "      <th></th>\n",
       "      <th>Firm</th>\n",
       "      <th>Amount_Spent</th>\n",
       "      <th>Retained_Impressions</th>\n",
       "    </tr>\n",
       "  </thead>\n",
       "  <tbody>\n",
       "    <tr>\n",
       "      <th>0</th>\n",
       "      <td>Miller Lite</td>\n",
       "      <td>50.1</td>\n",
       "      <td>32.1</td>\n",
       "    </tr>\n",
       "    <tr>\n",
       "      <th>1</th>\n",
       "      <td>Pepsi</td>\n",
       "      <td>74.1</td>\n",
       "      <td>99.6</td>\n",
       "    </tr>\n",
       "    <tr>\n",
       "      <th>2</th>\n",
       "      <td>Strohs</td>\n",
       "      <td>19.3</td>\n",
       "      <td>11.7</td>\n",
       "    </tr>\n",
       "    <tr>\n",
       "      <th>3</th>\n",
       "      <td>Federal Express</td>\n",
       "      <td>22.9</td>\n",
       "      <td>21.9</td>\n",
       "    </tr>\n",
       "    <tr>\n",
       "      <th>4</th>\n",
       "      <td>Burger King</td>\n",
       "      <td>82.4</td>\n",
       "      <td>60.8</td>\n",
       "    </tr>\n",
       "    <tr>\n",
       "      <th>5</th>\n",
       "      <td>Coca-Cola</td>\n",
       "      <td>40.1</td>\n",
       "      <td>78.6</td>\n",
       "    </tr>\n",
       "    <tr>\n",
       "      <th>6</th>\n",
       "      <td>McDonalds</td>\n",
       "      <td>185.9</td>\n",
       "      <td>92.4</td>\n",
       "    </tr>\n",
       "    <tr>\n",
       "      <th>7</th>\n",
       "      <td>MCI</td>\n",
       "      <td>26.9</td>\n",
       "      <td>50.7</td>\n",
       "    </tr>\n",
       "    <tr>\n",
       "      <th>8</th>\n",
       "      <td>Diet Cola</td>\n",
       "      <td>20.4</td>\n",
       "      <td>21.4</td>\n",
       "    </tr>\n",
       "    <tr>\n",
       "      <th>9</th>\n",
       "      <td>Ford</td>\n",
       "      <td>166.2</td>\n",
       "      <td>40.1</td>\n",
       "    </tr>\n",
       "    <tr>\n",
       "      <th>10</th>\n",
       "      <td>Levis</td>\n",
       "      <td>27.0</td>\n",
       "      <td>40.8</td>\n",
       "    </tr>\n",
       "    <tr>\n",
       "      <th>11</th>\n",
       "      <td>Bud Lite</td>\n",
       "      <td>45.6</td>\n",
       "      <td>10.4</td>\n",
       "    </tr>\n",
       "    <tr>\n",
       "      <th>12</th>\n",
       "      <td>ATT Bell</td>\n",
       "      <td>154.9</td>\n",
       "      <td>88.9</td>\n",
       "    </tr>\n",
       "    <tr>\n",
       "      <th>13</th>\n",
       "      <td>Calvin Klein</td>\n",
       "      <td>5.0</td>\n",
       "      <td>12.0</td>\n",
       "    </tr>\n",
       "    <tr>\n",
       "      <th>14</th>\n",
       "      <td>Wendys</td>\n",
       "      <td>49.7</td>\n",
       "      <td>29.2</td>\n",
       "    </tr>\n",
       "    <tr>\n",
       "      <th>15</th>\n",
       "      <td>Polaroid</td>\n",
       "      <td>26.9</td>\n",
       "      <td>38.0</td>\n",
       "    </tr>\n",
       "    <tr>\n",
       "      <th>16</th>\n",
       "      <td>Shasta</td>\n",
       "      <td>5.7</td>\n",
       "      <td>10.0</td>\n",
       "    </tr>\n",
       "    <tr>\n",
       "      <th>17</th>\n",
       "      <td>Meow Mix</td>\n",
       "      <td>7.6</td>\n",
       "      <td>12.3</td>\n",
       "    </tr>\n",
       "    <tr>\n",
       "      <th>18</th>\n",
       "      <td>Oscar Meyer</td>\n",
       "      <td>9.2</td>\n",
       "      <td>23.4</td>\n",
       "    </tr>\n",
       "    <tr>\n",
       "      <th>19</th>\n",
       "      <td>Crest</td>\n",
       "      <td>32.4</td>\n",
       "      <td>71.1</td>\n",
       "    </tr>\n",
       "    <tr>\n",
       "      <th>20</th>\n",
       "      <td>Kibbles N Bits</td>\n",
       "      <td>6.1</td>\n",
       "      <td>4.4</td>\n",
       "    </tr>\n",
       "  </tbody>\n",
       "</table>\n",
       "</div>"
      ],
      "text/plain": [
       "                Firm  Amount_Spent  Retained_Impressions\n",
       "0       Miller Lite           50.1                  32.1\n",
       "1             Pepsi           74.1                  99.6\n",
       "2             Strohs          19.3                  11.7\n",
       "3   Federal Express           22.9                  21.9\n",
       "4        Burger King          82.4                  60.8\n",
       "5         Coca-Cola           40.1                  78.6\n",
       "6          McDonalds         185.9                  92.4\n",
       "7                MCI          26.9                  50.7\n",
       "8         Diet Cola           20.4                  21.4\n",
       "9              Ford          166.2                  40.1\n",
       "10             Levis          27.0                  40.8\n",
       "11          Bud Lite          45.6                  10.4\n",
       "12         ATT Bell          154.9                  88.9\n",
       "13      Calvin Klein           5.0                  12.0\n",
       "14            Wendys          49.7                  29.2\n",
       "15         Polaroid           26.9                  38.0\n",
       "16           Shasta            5.7                  10.0\n",
       "17         Meow Mix            7.6                  12.3\n",
       "18      Oscar Meyer            9.2                  23.4\n",
       "19             Crest          32.4                  71.1\n",
       "20    Kibbles N Bits           6.1                   4.4"
      ]
     },
     "execution_count": 60,
     "metadata": {},
     "output_type": "execute_result"
    }
   ],
   "source": [
    "d2 = pd.read_csv(\"D:/labs/data_set/Number of Retained Impressions and Advertising Expenditures (2).csv\")\n",
    "d2"
   ]
  },
  {
   "cell_type": "code",
   "execution_count": 61,
   "id": "9563327f",
   "metadata": {},
   "outputs": [],
   "source": [
    "x = d2['Amount_Spent']\n",
    "y = d2['Retained_Impressions']"
   ]
  },
  {
   "cell_type": "code",
   "execution_count": 62,
   "id": "b58e9917",
   "metadata": {},
   "outputs": [],
   "source": [
    "m, c = np.polyfit(x, y, 1)"
   ]
  },
  {
   "cell_type": "code",
   "execution_count": 63,
   "id": "d247e0af",
   "metadata": {},
   "outputs": [
    {
     "name": "stdout",
     "output_type": "stream",
     "text": [
      "The slope is 0.36\n",
      "The intercept is 22.16\n"
     ]
    }
   ],
   "source": [
    "print(f\"The slope is {m:.2f}\")\n",
    "print(f\"The intercept is {c:.2f}\")\n"
   ]
  },
  {
   "cell_type": "code",
   "execution_count": 64,
   "id": "d7548a55",
   "metadata": {},
   "outputs": [],
   "source": [
    "y_pred = m * x + c"
   ]
  },
  {
   "cell_type": "code",
   "execution_count": 65,
   "id": "96cadefc",
   "metadata": {},
   "outputs": [],
   "source": [
    "r_squared = 1 - ((y - y_pred) ** 2).sum() / ((y - y.mean()) ** 2).sum()"
   ]
  },
  {
   "cell_type": "code",
   "execution_count": 66,
   "id": "b6a34ea9",
   "metadata": {},
   "outputs": [
    {
     "name": "stdout",
     "output_type": "stream",
     "text": [
      "The coefficient of determination is 0.42\n"
     ]
    }
   ],
   "source": [
    "print(f\"The coefficient of determination is {r_squared:.2f}\")"
   ]
  },
  {
   "cell_type": "code",
   "execution_count": 67,
   "id": "a61e2b73",
   "metadata": {},
   "outputs": [
    {
     "data": {
      "image/png": "[encoded data removed]",
      "text/plain": [
       "<Figure size 640x480 with 1 Axes>"
      ]
     },
     "metadata": {},
     "output_type": "display_data"
    }
   ],
   "source": [
    "plt.scatter(x, y, label=\"Data\")\n",
    "plt.plot(x, y_pred, color=\"red\", label=\"Regression line\")\n",
    "plt.xlabel(\"Temperature\")\n",
    "plt.ylabel(\"Usage\")\n",
    "plt.legend()\n",
    "plt.show()"
   ]
  }
 ],
 "metadata": {
  "kernelspec": {
   "display_name": "Python 3 (ipykernel)",
   "language": "python",
   "name": "python3"
  },
  "language_info": {
   "codemirror_mode": {
    "name": "ipython",
    "version": 3
   },
   "file_extension": ".py",
   "mimetype": "text/x-python",
   "name": "python",
   "nbconvert_exporter": "python",
   "pygments_lexer": "ipython3",
   "version": "3.11.5"
  }
 },
 "nbformat": 4,
 "nbformat_minor": 5
}
