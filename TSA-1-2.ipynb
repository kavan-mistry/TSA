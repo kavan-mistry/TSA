{
 "cells": [
  {
   "cell_type": "code",
   "execution_count": 1,
   "id": "88be7054-f5b9-4f12-ad39-0892d24ad3f4",
   "metadata": {},
   "outputs": [],
   "source": [
    "import numpy as np\n",
    "import pandas as pd\n",
    "import matplotlib.pyplot as plt"
   ]
  },
  {
   "cell_type": "code",
   "execution_count": 2,
   "id": "e8ab7857-3a73-48ff-a2e0-d017c242861d",
   "metadata": {},
   "outputs": [
    {
     "data": {
      "text/html": [
       "<div>\n",
       "<style scoped>\n",
       "    .dataframe tbody tr th:only-of-type {\n",
       "        vertical-align: middle;\n",
       "    }\n",
       "\n",
       "    .dataframe tbody tr th {\n",
       "        vertical-align: top;\n",
       "    }\n",
       "\n",
       "    .dataframe thead th {\n",
       "        text-align: right;\n",
       "    }\n",
       "</style>\n",
       "<table border=\"1\" class=\"dataframe\">\n",
       "  <thead>\n",
       "    <tr style=\"text-align: right;\">\n",
       "      <th></th>\n",
       "      <th>Observation</th>\n",
       "      <th>x1</th>\n",
       "      <th>x2</th>\n",
       "      <th>y</th>\n",
       "    </tr>\n",
       "  </thead>\n",
       "  <tbody>\n",
       "    <tr>\n",
       "      <th>0</th>\n",
       "      <td>1</td>\n",
       "      <td>55</td>\n",
       "      <td>50</td>\n",
       "      <td>68</td>\n",
       "    </tr>\n",
       "    <tr>\n",
       "      <th>1</th>\n",
       "      <td>2</td>\n",
       "      <td>46</td>\n",
       "      <td>24</td>\n",
       "      <td>77</td>\n",
       "    </tr>\n",
       "    <tr>\n",
       "      <th>2</th>\n",
       "      <td>3</td>\n",
       "      <td>30</td>\n",
       "      <td>46</td>\n",
       "      <td>96</td>\n",
       "    </tr>\n",
       "    <tr>\n",
       "      <th>3</th>\n",
       "      <td>4</td>\n",
       "      <td>35</td>\n",
       "      <td>48</td>\n",
       "      <td>80</td>\n",
       "    </tr>\n",
       "    <tr>\n",
       "      <th>4</th>\n",
       "      <td>5</td>\n",
       "      <td>59</td>\n",
       "      <td>58</td>\n",
       "      <td>43</td>\n",
       "    </tr>\n",
       "  </tbody>\n",
       "</table>\n",
       "</div>"
      ],
      "text/plain": [
       "   Observation  x1  x2   y\n",
       "0            1  55  50  68\n",
       "1            2  46  24  77\n",
       "2            3  30  46  96\n",
       "3            4  35  48  80\n",
       "4            5  59  58  43"
      ]
     },
     "execution_count": 2,
     "metadata": {},
     "output_type": "execute_result"
    }
   ],
   "source": [
    "df = pd.read_csv(\"D:\\labs\\TSA\\Patient_Satisfaction_Survey_Data.csv\")\n",
    "df.head()"
   ]
  },
  {
   "cell_type": "code",
   "execution_count": 3,
   "id": "90a73ac9-65fa-4799-8d25-66ee3fd73f45",
   "metadata": {},
   "outputs": [
    {
     "data": {
      "text/plain": [
       "array([[55, 50],\n",
       "       [46, 24],\n",
       "       [30, 46],\n",
       "       [35, 48],\n",
       "       [59, 58],\n",
       "       [61, 60],\n",
       "       [74, 65],\n",
       "       [38, 42],\n",
       "       [27, 42],\n",
       "       [51, 50],\n",
       "       [53, 38],\n",
       "       [41, 30],\n",
       "       [37, 31],\n",
       "       [24, 34],\n",
       "       [42, 30],\n",
       "       [50, 48],\n",
       "       [58, 61],\n",
       "       [60, 71],\n",
       "       [62, 62],\n",
       "       [68, 38],\n",
       "       [70, 41],\n",
       "       [79, 66],\n",
       "       [63, 31],\n",
       "       [39, 42],\n",
       "       [49, 40]], dtype=int64)"
      ]
     },
     "execution_count": 3,
     "metadata": {},
     "output_type": "execute_result"
    }
   ],
   "source": [
    "X = df[['x1', 'x2']].values\n",
    "y = df['y'].values\n",
    "X"
   ]
  },
  {
   "cell_type": "code",
   "execution_count": 4,
   "id": "819a5591-b661-483d-9f7a-9faea8d952f8",
   "metadata": {},
   "outputs": [
    {
     "data": {
      "text/plain": [
       "array([ 68,  77,  96,  80,  43,  44,  26,  88,  75,  57,  56,  88,  88,\n",
       "       102,  88,  70,  52,  43,  46,  56,  59,  26,  52,  83,  75],\n",
       "      dtype=int64)"
      ]
     },
     "execution_count": 4,
     "metadata": {},
     "output_type": "execute_result"
    }
   ],
   "source": [
    "y"
   ]
  },
  {
   "cell_type": "code",
   "execution_count": 5,
   "id": "b4cd54f7-0045-4ff6-97c3-94394a58ed12",
   "metadata": {},
   "outputs": [
    {
     "data": {
      "text/plain": [
       "array([[ 1., 55., 50.],\n",
       "       [ 1., 46., 24.],\n",
       "       [ 1., 30., 46.],\n",
       "       [ 1., 35., 48.],\n",
       "       [ 1., 59., 58.],\n",
       "       [ 1., 61., 60.],\n",
       "       [ 1., 74., 65.],\n",
       "       [ 1., 38., 42.],\n",
       "       [ 1., 27., 42.],\n",
       "       [ 1., 51., 50.],\n",
       "       [ 1., 53., 38.],\n",
       "       [ 1., 41., 30.],\n",
       "       [ 1., 37., 31.],\n",
       "       [ 1., 24., 34.],\n",
       "       [ 1., 42., 30.],\n",
       "       [ 1., 50., 48.],\n",
       "       [ 1., 58., 61.],\n",
       "       [ 1., 60., 71.],\n",
       "       [ 1., 62., 62.],\n",
       "       [ 1., 68., 38.],\n",
       "       [ 1., 70., 41.],\n",
       "       [ 1., 79., 66.],\n",
       "       [ 1., 63., 31.],\n",
       "       [ 1., 39., 42.],\n",
       "       [ 1., 49., 40.]])"
      ]
     },
     "execution_count": 5,
     "metadata": {},
     "output_type": "execute_result"
    }
   ],
   "source": [
    "# np.ones Return a new array of given shape and type, filled with ones.\n",
    "# np.column_stack Stack 1-D arrays as columns into a 2-D array.\n",
    "\n",
    "X = np.column_stack((np.ones(len(X)), X))\n",
    "X"
   ]
  },
  {
   "cell_type": "code",
   "execution_count": 6,
   "id": "2a76e593-917d-4f55-be80-dbb5ec090d00",
   "metadata": {},
   "outputs": [],
   "source": [
    "X_transpose_X = np.dot(X.T, X)\n",
    "X_transpose_y = np.dot(X.T, y)"
   ]
  },
  {
   "cell_type": "code",
   "execution_count": 7,
   "id": "37f3519e-ee8b-4662-90c0-cfb77c8e0f1a",
   "metadata": {},
   "outputs": [
    {
     "data": {
      "text/plain": [
       "array([[2.5000e+01, 1.2710e+03, 1.1480e+03],\n",
       "       [1.2710e+03, 6.9881e+04, 6.0814e+04],\n",
       "       [1.1480e+03, 6.0814e+04, 5.6790e+04]])"
      ]
     },
     "execution_count": 7,
     "metadata": {},
     "output_type": "execute_result"
    }
   ],
   "source": [
    "X_transpose_X"
   ]
  },
  {
   "cell_type": "code",
   "execution_count": 8,
   "id": "c369ee69-5ce5-4cd6-9720-5a24b2145081",
   "metadata": {},
   "outputs": [
    {
     "data": {
      "text/plain": [
       "array([ 1638., 76487., 70426.])"
      ]
     },
     "execution_count": 8,
     "metadata": {},
     "output_type": "execute_result"
    }
   ],
   "source": [
    "X_transpose_y"
   ]
  },
  {
   "cell_type": "code",
   "execution_count": 9,
   "id": "3d605ab8-cc03-41c9-9b4c-266b00286422",
   "metadata": {},
   "outputs": [
    {
     "data": {
      "text/plain": [
       "array([143.47201181,  -1.03105341,  -0.55603781])"
      ]
     },
     "execution_count": 9,
     "metadata": {},
     "output_type": "execute_result"
    }
   ],
   "source": [
    "coefficients = np.linalg.inv(X_transpose_X).dot(X_transpose_y)\n",
    "coefficients"
   ]
  },
  {
   "cell_type": "code",
   "execution_count": 10,
   "id": "c554b097-27c0-46f0-9435-9a3b609a3395",
   "metadata": {},
   "outputs": [
    {
     "name": "stdout",
     "output_type": "stream",
     "text": [
      "Regression Equation: y' = 143.472 + -1.031 x1 + -0.556 x2\n"
     ]
    }
   ],
   "source": [
    "print('Regression Equation:', f\"y' = {coefficients[0]:.3f} + {coefficients[1]:.3f} x1 + {coefficients[2]:.3f} x2\")"
   ]
  },
  {
   "cell_type": "code",
   "execution_count": 11,
   "id": "735d277a-f393-454c-9723-56995175a4f7",
   "metadata": {},
   "outputs": [
    {
     "data": {
      "text/plain": [
       "0     58.962184\n",
       "1     82.698647\n",
       "2     86.962670\n",
       "3     80.695327\n",
       "4     50.389667\n",
       "5     47.215485\n",
       "6     31.031602\n",
       "7     80.938394\n",
       "8     92.279982\n",
       "9     63.086397\n",
       "10    67.696744\n",
       "11    84.517688\n",
       "12    88.085863\n",
       "13    99.821444\n",
       "14    83.486634\n",
       "15    65.229526\n",
       "16    49.752607\n",
       "17    42.130122\n",
       "18    45.072356\n",
       "19    52.230943\n",
       "20    48.500723\n",
       "21    25.320297\n",
       "22    61.278475\n",
       "23    79.907341\n",
       "24    70.708882\n",
       "dtype: float64"
      ]
     },
     "execution_count": 11,
     "metadata": {},
     "output_type": "execute_result"
    }
   ],
   "source": [
    "y_pred = coefficients[0] + coefficients[1] * df['x1'] + coefficients[2] * df['x2']\n",
    "y_pred"
   ]
  },
  {
   "cell_type": "code",
   "execution_count": 18,
   "id": "3d72ee4c-5d50-4578-90cc-2b2578b6ce1c",
   "metadata": {},
   "outputs": [
    {
     "data": {
      "image/png": "[encoded data removed]",
      "text/plain": [
       "<Figure size 640x480 with 1 Axes>"
      ]
     },
     "metadata": {},
     "output_type": "display_data"
    }
   ],
   "source": [
    "plt.scatter(y_pred, df['y'],  label='Actual vs. Predicted', color='#92C7CF')\n",
    "plt.plot(df['y'], df['y'], label='Perfect Fit', color='#E0AED0', linestyle='--')\n",
    "\n",
    "plt.xlabel('Predicted Satisfaction')\n",
    "plt.ylabel('Actual Satisfaction')\n",
    "plt.title('Actual vs. Predicted Satisfaction')\n",
    "plt.legend()\n",
    "\n",
    "plt.show()"
   ]
  },
  {
   "cell_type": "code",
   "execution_count": 19,
   "id": "7cd67ad8-61fb-4890-b045-753b3bb32471",
   "metadata": {},
   "outputs": [
    {
     "data": {
      "text/plain": [
       "0      9.037816\n",
       "1     -5.698647\n",
       "2      9.037330\n",
       "3     -0.695327\n",
       "4     -7.389667\n",
       "5     -3.215485\n",
       "6     -5.031602\n",
       "7      7.061606\n",
       "8    -17.279982\n",
       "9     -6.086397\n",
       "10   -11.696744\n",
       "11     3.482312\n",
       "12    -0.085863\n",
       "13     2.178556\n",
       "14     4.513366\n",
       "15     4.770474\n",
       "16     2.247393\n",
       "17     0.869878\n",
       "18     0.927644\n",
       "19     3.769057\n",
       "20    10.499277\n",
       "21     0.679703\n",
       "22    -9.278475\n",
       "23     3.092659\n",
       "24     4.291118\n",
       "dtype: float64"
      ]
     },
     "execution_count": 19,
     "metadata": {},
     "output_type": "execute_result"
    }
   ],
   "source": [
    "Residual = y - y_pred\n",
    "Residual"
   ]
  },
  {
   "cell_type": "code",
   "execution_count": 25,
   "id": "76883de4-91eb-4100-9405-1876eed57cf1",
   "metadata": {},
   "outputs": [],
   "source": [
    "from sklearn.metrics import mean_squared_error"
   ]
  },
  {
   "cell_type": "code",
   "execution_count": 27,
   "id": "c50d1069-f9e0-4872-9101-6f25f6b4c574",
   "metadata": {},
   "outputs": [
    {
     "data": {
      "text/plain": [
       "6.676963230165672"
      ]
     },
     "execution_count": 27,
     "metadata": {},
     "output_type": "execute_result"
    }
   ],
   "source": [
    "rmse = np.sqrt(mean_squared_error(y, y_pred))\n",
    "rmse"
   ]
  },
  {
   "cell_type": "code",
   "execution_count": null,
   "id": "3cde56b4-86b8-45ae-815a-2c9094991019",
   "metadata": {},
   "outputs": [],
   "source": []
  }
 ],
 "metadata": {
  "kernelspec": {
   "display_name": "Python 3 (ipykernel)",
   "language": "python",
   "name": "python3"
  },
  "language_info": {
   "codemirror_mode": {
    "name": "ipython",
    "version": 3
   },
   "file_extension": ".py",
   "mimetype": "text/x-python",
   "name": "python",
   "nbconvert_exporter": "python",
   "pygments_lexer": "ipython3",
   "version": "3.11.5"
  }
 },
 "nbformat": 4,
 "nbformat_minor": 5
}
